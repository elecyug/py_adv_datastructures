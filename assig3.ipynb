{
 "cells": [
  {
   "cell_type": "code",
   "execution_count": 1,
   "id": "be40c7fc-f590-4a8d-9723-2c7e7ea18206",
   "metadata": {},
   "outputs": [
    {
     "name": "stdin",
     "output_type": "stream",
     "text": [
      "enter string: 12345\n"
     ]
    },
    {
     "data": {
      "text/plain": [
       "'54321'"
      ]
     },
     "execution_count": 1,
     "metadata": {},
     "output_type": "execute_result"
    }
   ],
   "source": [
    "#Q1 write a code to reverse a string.\n",
    "\n",
    "str1=input(\"enter string:\")\n",
    "str1[::-1]"
   ]
  },
  {
   "cell_type": "code",
   "execution_count": 2,
   "id": "663ff2c6-15f8-416a-8a2e-62eb95456c7c",
   "metadata": {},
   "outputs": [
    {
     "name": "stdin",
     "output_type": "stream",
     "text": [
      "Enter string: yuggupta\n"
     ]
    },
    {
     "name": "stdout",
     "output_type": "stream",
     "text": [
      "Number of vowels are : 3\n"
     ]
    }
   ],
   "source": [
    "#Q2. Write a code to count the number of vowels in a string.\n",
    "\n",
    "str2= input(\"Enter string:\")\n",
    "vowels=0\n",
    "for i in str2:\n",
    "      if (i=='a' or i=='e' or i=='i' or i=='o' or i=='u' or i=='A' or i=='E' or i=='I' or i=='O' or i=='U'):\n",
    "            vowels=vowels+1\n",
    "print(\"Number of vowels are :\",vowels)\n",
    "\n"
   ]
  },
  {
   "cell_type": "code",
   "execution_count": 3,
   "id": "a74dd31b-168d-44c5-8fbc-e3240d14fa99",
   "metadata": {},
   "outputs": [
    {
     "name": "stdin",
     "output_type": "stream",
     "text": [
      "enter string: yug\n"
     ]
    },
    {
     "name": "stdout",
     "output_type": "stream",
     "text": [
      "string is not palindrome\n"
     ]
    }
   ],
   "source": [
    "#Q3. Write a code to check if a given strings is a palindromic or not\n",
    "\n",
    "str3=input(\"enter string:\")\n",
    "if(str3 == str3[::-1]):\n",
    "    print(\"string is palindrome\")\n",
    "else:\n",
    "     print(\"string is not palindrome\")\n",
    "        "
   ]
  },
  {
   "cell_type": "code",
   "execution_count": 5,
   "id": "1d132273-d187-41c8-85f7-718466867f8e",
   "metadata": {},
   "outputs": [
    {
     "name": "stdin",
     "output_type": "stream",
     "text": [
      "enter 1st string: listen\n",
      "enter 2nd string: silent\n"
     ]
    },
    {
     "name": "stdout",
     "output_type": "stream",
     "text": [
      "the strings are anagrams of each other\n"
     ]
    }
   ],
   "source": [
    "#Q4 Write a code  to check if two given strings are anagrams of each other.\n",
    "\n",
    "s1=input(\"enter 1st string:\")\n",
    "s2=input(\"enter 2nd string:\")\n",
    "\n",
    "s1 = s1.lower()\n",
    "s2 = s2.lower()\n",
    "\n",
    "if (sorted(s1)==sorted(s2)):\n",
    "    print(\"the strings are anagrams of each other\")\n",
    "else:\n",
    "    print(\"the strings are not anagrams of each other\")\n",
    "    "
   ]
  },
  {
   "cell_type": "code",
   "execution_count": 8,
   "id": "0bedaa66-0556-4a13-a9b3-8aecf4bc93fe",
   "metadata": {},
   "outputs": [
    {
     "name": "stdin",
     "output_type": "stream",
     "text": [
      "enter string: helloforell\n",
      "enter sub string: ell\n"
     ]
    },
    {
     "name": "stdout",
     "output_type": "stream",
     "text": [
      "1\n",
      "8\n"
     ]
    }
   ],
   "source": [
    "#Q5. Write a code to find all occurrence  of a given substring within another string\n",
    "\n",
    "s=input(\"enter string:\")\n",
    "s1= input(\"enter sub string:\")\n",
    "\n",
    "f=False\n",
    "l=[]\n",
    "for i in range(len(s)):\n",
    "    if(s[i:i+len(s1)]==s1):\n",
    "        print(i)\n",
    "        f=True\n",
    "if(f==False):\n",
    "    print(\"None\")"
   ]
  },
  {
   "cell_type": "code",
   "execution_count": 20,
   "id": "ec04f651-fdaf-484a-8911-5ef855108fce",
   "metadata": {},
   "outputs": [
    {
     "name": "stdin",
     "output_type": "stream",
     "text": [
      "the string to be compressed: abbbaaaaaaccdaaab\n"
     ]
    },
    {
     "name": "stdout",
     "output_type": "stream",
     "text": [
      "a1b3a6c2d1a3a1\n"
     ]
    }
   ],
   "source": [
    "#Q6 Write a code to perform basic string compression using the counts of repeated characters.\n",
    "\n",
    "inpstr= input(\"the string to be compressed:\")\n",
    "newstr=\"\"\n",
    "\n",
    "count= 1\n",
    "for i in range(len(inpstr)-1):\n",
    "    if inpstr[i]==inpstr[i+1]:\n",
    "              count+=1\n",
    "    else:\n",
    "              newstr+= inpstr[i] + str(count)\n",
    "              count = 1\n",
    "newstr+= inpstr[i] + str(count)\n",
    "print(newstr)\n",
    "              "
   ]
  },
  {
   "cell_type": "code",
   "execution_count": 2,
   "id": "cbf0c682-5b3d-4098-ba81-9a2e67b85302",
   "metadata": {},
   "outputs": [
    {
     "name": "stdin",
     "output_type": "stream",
     "text": [
      "enter the string yug\n"
     ]
    },
    {
     "name": "stdout",
     "output_type": "stream",
     "text": [
      "True\n"
     ]
    }
   ],
   "source": [
    "# Q7. Write a code to determine if a string has all uique characters.\n",
    "\n",
    "s=input(\"enter the string\")\n",
    "s1=set(s)\n",
    "if len(s)==len(s1):\n",
    "    print(True)\n",
    "else:\n",
    "    print(False)\n",
    "    \n"
   ]
  },
  {
   "cell_type": "code",
   "execution_count": 6,
   "id": "4f52edfa-da9c-4b67-b4d7-1cc9cb8612e2",
   "metadata": {},
   "outputs": [
    {
     "name": "stdin",
     "output_type": "stream",
     "text": [
      "enter the string: yug\n"
     ]
    },
    {
     "name": "stdout",
     "output_type": "stream",
     "text": [
      "YUG\n"
     ]
    }
   ],
   "source": [
    "#Q8.Write a code to convert a given string to uppercase or lowercase.\n",
    "\n",
    "s= input(\"enter the string:\")\n",
    "def uppercase(s):\n",
    "    return s.upper()\n",
    "\n",
    "def lowercase(s):\n",
    "    return s.lower()\n",
    "\n",
    "print(uppercase(s))"
   ]
  },
  {
   "cell_type": "code",
   "execution_count": 56,
   "id": "3003d771-3f4e-4372-80c8-ed5b5a05cca3",
   "metadata": {},
   "outputs": [
    {
     "data": {
      "text/plain": [
       "'YUG'"
      ]
     },
     "execution_count": 56,
     "metadata": {},
     "output_type": "execute_result"
    }
   ],
   "source": [
    "uppercase(s)"
   ]
  },
  {
   "cell_type": "code",
   "execution_count": null,
   "id": "63a22fcd-d4e8-4524-902f-e7242309f7bb",
   "metadata": {},
   "outputs": [],
   "source": [
    "#Q9. Write a code to count the number of words in a string.\n",
    "\n",
    "str9= input(\"enter the string:\")\n",
    "word = str9.split()\n",
    "print(word)\n",
    "print(\"the number of words are :\",len(word))\n"
   ]
  },
  {
   "cell_type": "code",
   "execution_count": null,
   "id": "cb854dd9-7200-4fd3-9188-02c77da94e92",
   "metadata": {},
   "outputs": [],
   "source": [
    "#Q10.Write a code to concatenate two string without using + operator\n",
    "\n",
    "s1=input(\"enter 1st string:\")\n",
    "s2=input(\"enter 2nd string:\")\n",
    "\n",
    "result=\"\".join([s1,s2])\n",
    "print(\"combined string is :\",result)\n"
   ]
  },
  {
   "cell_type": "code",
   "execution_count": 38,
   "id": "2fb54be7-a900-4f32-b748-d2b4cd9b3a3c",
   "metadata": {},
   "outputs": [
    {
     "name": "stdout",
     "output_type": "stream",
     "text": [
      "['a', 'c', 'c']\n"
     ]
    }
   ],
   "source": [
    "#Q11 Write a code to remove all occurrences  of a specific element from a list.\n",
    "\n",
    "lis = ['a', 'b', 'c', 'b', 'b', 'b', 'b', 'b', 'c','b']\n",
    "\n",
    "for i in lis[:]:  # Iterate over a copy of the list\n",
    "    if i == 'b':\n",
    "        lis.remove(i)\n",
    "\n",
    "print(lis)"
   ]
  },
  {
   "cell_type": "code",
   "execution_count": 63,
   "id": "46189aca-3505-465d-bcbb-8887ab8a183e",
   "metadata": {},
   "outputs": [
    {
     "name": "stdout",
     "output_type": "stream",
     "text": [
      "8\n"
     ]
    }
   ],
   "source": [
    "#Q12. Implement a code to find the second largest number in a given in the given list of integer.\n",
    "\n",
    "lis1 = [6,8,4,0,3,1,7,999999]\n",
    " \n",
    "# Removing the largest element from temp list\n",
    "lis1.remove(max(lis1))\n",
    " \n",
    "# Elements in original list are not changed\n",
    "# print(list1)\n",
    "print(max(lis1))"
   ]
  },
  {
   "cell_type": "code",
   "execution_count": 1,
   "id": "24dbe877-e6a9-4a82-8428-8262c60a4d4b",
   "metadata": {},
   "outputs": [
    {
     "name": "stdout",
     "output_type": "stream",
     "text": [
      "{'apple': 3, 'banana': 2, 'orange': 1}\n"
     ]
    }
   ],
   "source": [
    "#Q13. Create a code to count the occurence of each element in a list and return a dictionary with element as keys\n",
    "#and their count as values.\n",
    "\n",
    "lst = ['apple', 'banana', 'apple', 'orange', 'banana', 'apple']\n",
    "counts = {}\n",
    "for element in lst:\n",
    "    if element in counts:\n",
    "        counts[element] += 1\n",
    "    else:\n",
    "        counts[element] = 1\n",
    "print(counts)\n"
   ]
  },
  {
   "cell_type": "code",
   "execution_count": 2,
   "id": "3d7d4cb1-7a10-4b7b-91f9-974440a1a70a",
   "metadata": {},
   "outputs": [
    {
     "name": "stdout",
     "output_type": "stream",
     "text": [
      "Reversed List:  ['Josh', 3, 'Sejal', 2, 'Raj', 1]\n"
     ]
    }
   ],
   "source": [
    "#Q14. Write a code to reverse a list in-place without using any built in reverse functions.\n",
    "\n",
    "info = [1, 'Raj', 2, 'Sejal', 3, 'Josh']\n",
    "\n",
    "a = info[::-1]\n",
    "print('Reversed List: ', a)\n",
    "\n",
    "# can also be dony using 2 ptr approach"
   ]
  },
  {
   "cell_type": "code",
   "execution_count": 21,
   "id": "85a7bab3-e363-43d2-9c37-9f118116d140",
   "metadata": {},
   "outputs": [
    {
     "name": "stdout",
     "output_type": "stream",
     "text": [
      "The list after removing duplicates :  ['a', 'b', 'c', 'd', 'e']\n"
     ]
    }
   ],
   "source": [
    "#Q15.Implement a code to find and remove duplicates from a list while perserving the original order of element.\n",
    "\n",
    "lst = ['a', 'b', 'c', 'b', 'a', 'd', 'e', 'd']\n",
    "count=[]\n",
    "\n",
    "for element in lst:\n",
    "    if element not in count:\n",
    "        count.append(element)\n",
    "print(\"The list after removing duplicates : \",count)\n"
   ]
  },
  {
   "cell_type": "code",
   "execution_count": 52,
   "id": "a09092e0-b89e-4370-836c-98c06e7741ae",
   "metadata": {},
   "outputs": [
    {
     "name": "stdout",
     "output_type": "stream",
     "text": [
      "the list is not sorted\n"
     ]
    }
   ],
   "source": [
    "#Q16. Create a code to check if a given list is sorted (either in ascending or descending order) or not\n",
    "\n",
    "lis= [89,53,46,56,81,7]\n",
    "a=sorted(lis)\n",
    "if a == lis:\n",
    "    print(\"the list is sorted\")\n",
    "else:\n",
    "    print(\"the list is not sorted\")"
   ]
  },
  {
   "cell_type": "code",
   "execution_count": 72,
   "id": "a3af4bf2-36da-4dcf-a593-2e045a6ee201",
   "metadata": {},
   "outputs": [
    {
     "data": {
      "text/plain": [
       "[0, 1, 2, 3, 4, 5, 6, 7, 8, 9]"
      ]
     },
     "execution_count": 72,
     "metadata": {},
     "output_type": "execute_result"
    }
   ],
   "source": [
    "#Q17.Write a code to merge two sorted lists into a single sorted list.\n",
    "\n",
    "l1 = [1, 3, 4, 7]\n",
    "l2 = [0, 2, 5, 6, 8, 9]\n",
    "l1.extend(l2)\n",
    "\n",
    "sorted(l1)\n"
   ]
  },
  {
   "cell_type": "code",
   "execution_count": 3,
   "id": "e5b7d474-70c5-4859-aa68-e98e9cbda0bf",
   "metadata": {},
   "outputs": [
    {
     "data": {
      "text/plain": [
       "[9, 11, 11, 26, 28]"
      ]
     },
     "execution_count": 3,
     "metadata": {},
     "output_type": "execute_result"
    }
   ],
   "source": [
    "#Q18. Implement a code to find the intersection of two given lists.\n",
    "\n",
    "lst1 = [4, 9, 11, 17, 11, 26, 28, 54, 69]\n",
    "lst2 = [9, 9, 74, 21, 45, 11, 63, 28, 26]\n",
    "\n",
    "lst3=[]\n",
    "\n",
    "for i in lst1:\n",
    "    if i in lst2:\n",
    "        lst3.append(i)\n",
    "lst3\n"
   ]
  },
  {
   "cell_type": "code",
   "execution_count": 6,
   "id": "fb917aaa-4f51-40f2-a77c-7d8450ab190b",
   "metadata": {},
   "outputs": [
    {
     "name": "stdout",
     "output_type": "stream",
     "text": [
      "{4, 5, 36, 9, 10, 45, 78, 15, 47, 87, 23, 56, 26}\n"
     ]
    }
   ],
   "source": [
    "#Q19. Create a code to find the union of two list without duplicates.\n",
    "\n",
    "lst1 = [15, 9, 10, 56, 23, 78, 5, 4, 9]\n",
    "lst2 = [9, 4, 5, 36, 47, 26, 10, 45, 87]\n",
    "\n",
    "print(set(lst1) | set(lst2))\n",
    "\n",
    "# this makes sure that the unioun is without duplicates\n"
   ]
  },
  {
   "cell_type": "code",
   "execution_count": 13,
   "id": "bc4650a3-a412-4a35-9a9f-387550bc316d",
   "metadata": {},
   "outputs": [
    {
     "name": "stdout",
     "output_type": "stream",
     "text": [
      "the shuffled list is:  [1, 4, 8, 6, 2, 9, 5, 3, 7, 10]\n"
     ]
    }
   ],
   "source": [
    "#Q20. Write a code to shuffle a give list randomly without using any built-in shuffle fuctions.\n",
    "# Fisher-Yates shuffle algorithm\n",
    "\n",
    "import random\n",
    "\n",
    "lst = [1, 2, 3, 4, 5, 6, 7, 8, 9, 10]\n",
    "n = len(lst)\n",
    "\n",
    "for i in range(n-1,0,-1): # -1 means moving backwards by 1 time . ie thats the step\n",
    "    j =random.randint(0,i)\n",
    "    \n",
    "    # Swap the element at i with the element at the random index\n",
    "    lst[i], lst[j] = lst[j], lst[i]\n",
    "    \n",
    "print (\"the shuffled list is: \",lst)\n",
    "\n",
    "    \n",
    "    "
   ]
  },
  {
   "cell_type": "code",
   "execution_count": 68,
   "id": "334b729c-be58-41dd-8e0e-8700a9c19087",
   "metadata": {},
   "outputs": [
    {
     "name": "stdin",
     "output_type": "stream",
     "text": [
      "enter the first tuple elements yug,khushi,vimarsh\n",
      "enter the second tuple elements yug,khushi,vimla\n"
     ]
    },
    {
     "data": {
      "text/plain": [
       "('khushi', 'yug')"
      ]
     },
     "execution_count": 68,
     "metadata": {},
     "output_type": "execute_result"
    }
   ],
   "source": [
    "#Q21. Write a code that takes two tuples as input and returns a new tuple containing elementsthat are common to both  input tuple.\n",
    "\n",
    "inp_1 = input(\"enter the first tuple elements\")\n",
    "inp_2 = input(\"enter the second tuple elements\")\n",
    "\n",
    "tup1= tuple(inp_1.split(\",\")) \n",
    "tup2= tuple(inp_2.split(\",\")) \n",
    "\n",
    "set1=set(tup1)\n",
    "set2=set(tup2)\n",
    "\n",
    "com_set= set1.intersection(set2)\n",
    "\n",
    "com_tup= tuple(com_set)\n",
    "com_tup"
   ]
  },
  {
   "cell_type": "code",
   "execution_count": 8,
   "id": "ec6306fc-2d4f-4787-ae26-a0747e172824",
   "metadata": {},
   "outputs": [
    {
     "name": "stdin",
     "output_type": "stream",
     "text": [
      "enter the first set elements 1,2,3,4,5\n",
      "enter the second set elements 2,3,4,5,6,7\n"
     ]
    },
    {
     "data": {
      "text/plain": [
       "{2, 3, 4, 5}"
      ]
     },
     "execution_count": 8,
     "metadata": {},
     "output_type": "execute_result"
    }
   ],
   "source": [
    "# Q22. Create a code that prompt the user to enter two sets of integers seperated by commas Then,print the intersection of these two sets.\n",
    "inp_1 = input(\"enter the first set elements\")\n",
    "inp_2 = input(\"enter the second set elements\")\n",
    "\n",
    "set1= set(map(int, inp_1.split(',')))\n",
    "set2= set(map(int, inp_2.split(',')))\n",
    "\n",
    "set3= set1.intersection(set2)\n",
    "set3"
   ]
  },
  {
   "cell_type": "code",
   "execution_count": 7,
   "id": "b827c623-7a7a-4085-b72a-627eeeea20f6",
   "metadata": {},
   "outputs": [
    {
     "name": "stdin",
     "output_type": "stream",
     "text": [
      "enter the first tuple elements yug,khushi,vimarsh\n",
      "enter the second tuple elements yug,khuhsi,vimla\n"
     ]
    },
    {
     "data": {
      "text/plain": [
       "('yug', 'khushi', 'vimarsh', 'yug', 'khuhsi', 'vimla')"
      ]
     },
     "execution_count": 7,
     "metadata": {},
     "output_type": "execute_result"
    }
   ],
   "source": [
    "#Q23 Write a code to concatenate two tuples .The fuction should take two tuples as input and retrun a new tuple containing elements\n",
    "\n",
    "inp_1 = input(\"enter the first tuple elements\")\n",
    "inp_2 = input(\"enter the second tuple elements\")\n",
    "\n",
    "tup1= tuple(inp_1.split(\",\")) \n",
    "tup2= tuple(inp_2.split(\",\")) \n",
    "\n",
    "tup3= tup1 + tup2\n",
    "tup3"
   ]
  },
  {
   "cell_type": "code",
   "execution_count": 2,
   "id": "b446735a-a62a-44e0-9751-632f77d7dbd4",
   "metadata": {},
   "outputs": [
    {
     "name": "stdin",
     "output_type": "stream",
     "text": [
      "enter the first set elements geeksforgeeks\n",
      "enter the second set elements geeks\n"
     ]
    },
    {
     "data": {
      "text/plain": [
       "{'f', 'o', 'r'}"
      ]
     },
     "execution_count": 2,
     "metadata": {},
     "output_type": "execute_result"
    }
   ],
   "source": [
    "#Q24 Develop a code that prompts the user to input two sets of strings .Then, print the elements that are present in the first set but not in the second set.\n",
    "\n",
    "inp_1 = input(\"enter the first set elements\")\n",
    "inp_2 = input(\"enter the second set elements\")\n",
    "\n",
    "seta= set(inp_1)\n",
    "setb= set(inp_2) \n",
    "\n",
    "result=seta-setb\n",
    "result\n"
   ]
  },
  {
   "cell_type": "code",
   "execution_count": 4,
   "id": "e875a450-8769-4003-a474-ddb392f85679",
   "metadata": {},
   "outputs": [
    {
     "name": "stdout",
     "output_type": "stream",
     "text": [
      "original tuple within the specified range of indicies : (3, 4, 5)\n"
     ]
    }
   ],
   "source": [
    "#Q25 Create a code that takes a tuple and two integers as input .The function should returan a new tuple containing elements from the original tuple within the specified range of indicies.\n",
    "\n",
    "tuple1=(1,2,3,4,5,6,7,8,9)\n",
    "index1=2\n",
    "index2=5\n",
    "list1=[]\n",
    "for i in range(index1,index2):\n",
    "    list1.append(tuple1[i])\n",
    "new_tuple=tuple(list1)\n",
    "print(\"original tuple within the specified range of indicies :\",new_tuple)"
   ]
  },
  {
   "cell_type": "code",
   "execution_count": 5,
   "id": "d9c4aceb-6a8f-4ff4-8e68-d7b0f4200a80",
   "metadata": {},
   "outputs": [
    {
     "name": "stdin",
     "output_type": "stream",
     "text": [
      "enter the character: yug\n",
      "enter the character : guy\n"
     ]
    },
    {
     "name": "stdout",
     "output_type": "stream",
     "text": [
      "unoin of two sets : {'y', 'g', 'u'}\n"
     ]
    }
   ],
   "source": [
    "#Q26 Write  code that prompts the user to input two sets of chracters .Then,print the union of these two  sets.\n",
    "\n",
    "set1=set(input(\"enter the character:\"))\n",
    "set2=set(input(\"enter the character :\"))\n",
    "print(\"unoin of two sets :\",set1|set2)"
   ]
  },
  {
   "cell_type": "code",
   "execution_count": 6,
   "id": "40ee12b4-7e25-4dfc-8827-06b0a2c2532d",
   "metadata": {},
   "outputs": [
    {
     "name": "stdout",
     "output_type": "stream",
     "text": [
      "maximum number : 78 \n",
      "minimum number : 11\n"
     ]
    }
   ],
   "source": [
    "#Q27. Develop a code that takes a tuple of integers as input.The function should return the maximum and minimum values from the tuple using tuple unpacking.\n",
    "\n",
    "def maxminnum(tuple2):\n",
    "    print(\"maximum number :\",max(tuple2),\"\\nminimum number :\",min(tuple2))\n",
    "tuple1=(33,22,11,66,78,54)\n",
    "tuple2=tuple1\n",
    "maxminnum(tuple2)\n",
    "    "
   ]
  },
  {
   "cell_type": "code",
   "execution_count": 7,
   "id": "1f3ac897-8be8-4d66-9a45-a728bbb48bdc",
   "metadata": {},
   "outputs": [
    {
     "name": "stdout",
     "output_type": "stream",
     "text": [
      "set1 :  {34, 3, 2, 4, 5, 67, 11, 45, 22}\n",
      "set2 :  {67, 3, 4, 5, 8, 9, 43, 47, 89}\n",
      "union of two sets :  {34, 3, 2, 4, 5, 67, 8, 9, 11, 43, 45, 47, 22, 89}\n",
      "intersections of two sets :  {3, 67, 4, 5}\n",
      "differences  of these two sets :  {34, 2, 11, 45, 22}\n"
     ]
    }
   ],
   "source": [
    "#Q28.Create a code that defines two sets of integers.Then, print the union,intersection and differences of these two sets.\n",
    "\n",
    "set1={2,3,4,5,34,22,11,45,67}\n",
    "set2={3,4,5,8,9,67,89,43,47}\n",
    "print(\"set1 : \",set1)\n",
    "print(\"set2 : \",set2)\n",
    "print(\"union of two sets : \",set1|set2)\n",
    "print(\"intersections of two sets : \",set1&set2)\n",
    "print(\"differences  of these two sets : \" ,set1-set2)"
   ]
  },
  {
   "cell_type": "code",
   "execution_count": 11,
   "id": "fb7b7743-3ad6-44c4-9b56-49f2aa0ac434",
   "metadata": {},
   "outputs": [
    {
     "name": "stdout",
     "output_type": "stream",
     "text": [
      "occurrences of given element : 5\n"
     ]
    }
   ],
   "source": [
    "#Q29. Write a code that takes a tuple and an element as input .The function should return the count  of occurrences of the given element in tuple.\n",
    "\n",
    "def occu():\n",
    "    tuple1=(3,4,5,6,7,3,4,5,4,3,7,6,4,3,2,3,4)\n",
    "    print(\"occurrences of given element :\",tuple1.count(3))\n",
    "    \n",
    "occu()\n"
   ]
  },
  {
   "cell_type": "code",
   "execution_count": 15,
   "id": "81e83ddf-d769-4aaf-bf6a-73a7c7978d28",
   "metadata": {},
   "outputs": [
    {
     "name": "stdin",
     "output_type": "stream",
     "text": [
      "enter the string of set first: 2,3,4,5,6,7,3,3\n",
      "enter the string of set second: 4,5,6,7,8,9,0,2\n"
     ]
    },
    {
     "name": "stdout",
     "output_type": "stream",
     "text": [
      "first set  {2, 3, 4, 5, 6, 7}\n",
      "second set  {0, 2, 4, 5, 6, 7, 8, 9}\n",
      "symmetric differences of these two sets :  {0, 3, 8, 9}\n"
     ]
    }
   ],
   "source": [
    "#Q30. Develop a code that prompts the user to input two sets of strings.Then, print the symmetric differencesof these  two sets.\n",
    "\n",
    "set1=set(map(int,input(\"enter the string of set first:\").split(',')))\n",
    "set2=set(map(int,input(\"enter the string of set second:\").split(',')))\n",
    "print(\"first set \",set1)\n",
    "print(\"second set \",set2)\n",
    "print(\"symmetric differences of these two sets : \", set1^set2)"
   ]
  },
  {
   "cell_type": "code",
   "execution_count": 2,
   "id": "586520b3-a1cf-4fa2-a337-f467b325f7ab",
   "metadata": {},
   "outputs": [
    {
     "name": "stdout",
     "output_type": "stream",
     "text": [
      "{'a': 2, 'd': 2, 'c': 1, 'v': 1, 'b': 2, 'n': 1, 'm': 1}\n"
     ]
    }
   ],
   "source": [
    "#Q31 Write a code that takes a list of words as input and returns a dicionary where the keys are unique words and the values are the frequecies of those words in the input list.\n",
    "\n",
    "list1=[\"a\",\"a\",\"d\",\"c\",\"v\",\"d\",\"b\",\"b\",\"n\",\"m\"]\n",
    "dict1={}\n",
    "for i in list1:\n",
    "    if i in dict1:\n",
    "        dict1[i]+=1\n",
    "    else:\n",
    "        dict1[i]=1\n",
    "print(dict1)"
   ]
  },
  {
   "cell_type": "code",
   "execution_count": 4,
   "id": "8fe9ff59-d5a7-4808-a442-218724dec467",
   "metadata": {},
   "outputs": [
    {
     "name": "stdout",
     "output_type": "stream",
     "text": [
      "merges them into a single dictionary : {'a': 5, 'b': 6, 'c': 18}\n"
     ]
    }
   ],
   "source": [
    "#Q32. Write a code that takes two dictionaries as input and merges them into a single dictionary .If there are coomon keys, the values should be added together.\n",
    "\n",
    "dict1={\"a\":5,\"b\":3,\"c\":9}\n",
    "dict2={\"c\":7,\"d\":4,\"b\":4}\n",
    "merge_dict=dict1.copy()\n",
    "for key,value in dict1.items():\n",
    "    if key in dict2:\n",
    "        merge_dict[key]+=value\n",
    "    else:\n",
    "        merge_dict[key]=value\n",
    "print(\"merges them into a single dictionary :\",merge_dict)"
   ]
  },
  {
   "cell_type": "code",
   "execution_count": 23,
   "id": "01645638-4d75-40ff-b2cc-115df180bb69",
   "metadata": {},
   "outputs": [
    {
     "name": "stdout",
     "output_type": "stream",
     "text": [
      "information : Yug \n",
      " 19 \n",
      " 12\n"
     ]
    }
   ],
   "source": [
    "#Q33. Write a code to access a value in a nested dictionary. The function should take the dictionary and a list of keys\n",
    "#as input and return the corresponding value.If any of the keys do not exist in the dictionary,the function should\n",
    "#return None\n",
    "\n",
    "people={1:{\"name\" : \"Yug\",\"age\":19, \"class\":12}}\n",
    "print(\"information :\",people[1]['name'],\"\\n\",people[1]['age'],\"\\n\",people[1]['class'])"
   ]
  },
  {
   "cell_type": "code",
   "execution_count": 24,
   "id": "b995a1cc-09c6-48d9-bc65-f3c0aaecb05b",
   "metadata": {},
   "outputs": [
    {
     "name": "stdout",
     "output_type": "stream",
     "text": [
      "{'date': 1, 'banana': 2, 'apple': 3, 'cherry': 5}\n"
     ]
    }
   ],
   "source": [
    "#Q34. Write a code that takes a dictionary as input and returns a sorte version of it based on the values .You con choose whether to sort in ascendingor descending order.\n",
    "\n",
    "sample_dict = {'apple': 3, 'banana': 2, 'cherry': 5,'date': 1}\n",
    "\n",
    "\n",
    "# Sorting the dictionary by its values\n",
    "sorted_dict = dict(sorted(sample_dict.items(), key=lambda item: item[1]))\n",
    "\n",
    "\n",
    "# Print the sorted dictionary\n",
    "print(sorted_dict)\n"
   ]
  },
  {
   "cell_type": "code",
   "execution_count": 9,
   "id": "fd80be46-2a9c-45e0-aa9e-040f7ae47516",
   "metadata": {},
   "outputs": [
    {
     "name": "stdout",
     "output_type": "stream",
     "text": [
      "{34: ['a'], 4: ['c'], 5: ['d']}\n"
     ]
    }
   ],
   "source": [
    "# q35. \n",
    "\n",
    "original_dict={\"a\":34,\"c\":4,\"d\":5}\n",
    "inverted_dict={}\n",
    "for key,value in original_dict.items():\n",
    "    if value in inverted_dict:\n",
    "        inverted_dict[value].append(key)\n",
    "    else:\n",
    "        inverted_dict[value]=[key]\n",
    "print(inverted_dict)\n",
    "\n",
    "\n"
   ]
  }
 ],
 "metadata": {
  "kernelspec": {
   "display_name": "Python 3 (ipykernel)",
   "language": "python",
   "name": "python3"
  },
  "language_info": {
   "codemirror_mode": {
    "name": "ipython",
    "version": 3
   },
   "file_extension": ".py",
   "mimetype": "text/x-python",
   "name": "python",
   "nbconvert_exporter": "python",
   "pygments_lexer": "ipython3",
   "version": "3.10.8"
  }
 },
 "nbformat": 4,
 "nbformat_minor": 5
}
